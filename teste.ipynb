{
 "cells": [
  {
   "cell_type": "code",
   "execution_count": null,
   "metadata": {},
   "outputs": [],
   "source": [
    "from botcity.web import Browser, By, WebBot\n",
    "from webdriver_manager.chrome import ChromeDriverManager\n",
    "from botcity.web.browsers.chrome import default_options\n",
    "from selenium.webdriver.chrome.options import Options as ChromeOptions\n",
    "import os"
   ]
  },
  {
   "cell_type": "code",
   "execution_count": 5,
   "metadata": {},
   "outputs": [],
   "source": [
    "webBot = WebBot()\n",
    "webBot.headless = False\n",
    "webBot.browser = Browser.CHROME\n",
    "webBot.driver_path = ChromeDriverManager().install()\n",
    "\n",
    "# profile_path = \"C:/Users/novoa/AppData/Local/Google/Chrome/User Data\"\n",
    "def_options = default_options()\n",
    "temp_user_data_dir = os.path.join(os.getcwd(), 'temp_chrome_data')\n",
    "os.makedirs(temp_user_data_dir, exist_ok=True)\n",
    "def_options.add_argument(f'--user-data-dir={temp_user_data_dir}')\n",
    "# def_options.binary_location = r\"C:\\Users\\novoa\\OneDrive\\Área de Trabalho\\chrome-win64\\chrome.exe\"\n",
    "def_options.add_argument(\"no-sandbox\")\n",
    "def_options.add_argument('--disable-dev-shm-usage')\n",
    "# def_options.add_argument('--profile-directory=Profile 1')\n",
    "webBot.options = def_options\n",
    "\n",
    "webBot.browse(\"https://nfe.portoalegre.rs.gov.br\")"
   ]
  },
  {
   "cell_type": "code",
   "execution_count": 5,
   "metadata": {},
   "outputs": [
    {
     "name": "stdout",
     "output_type": "stream",
     "text": [
      "ChromeDriver instalado em: C:\\Users\\novoa\\.wdm\\drivers\\chromedriver\\win64\\136.0.7103.92\\chromedriver-win32/chromedriver.exe\n"
     ]
    }
   ],
   "source": [
    "from webdriver_manager.chrome import ChromeDriverManager\n",
    "from selenium import webdriver\n",
    "\n",
    "# Instala a versão mais recente do ChromeDriver compatível\n",
    "driver_path = ChromeDriverManager().install()\n",
    "print(f\"ChromeDriver instalado em: {driver_path}\")"
   ]
  },
  {
   "cell_type": "code",
   "execution_count": 4,
   "metadata": {},
   "outputs": [],
   "source": [
    "from botcity.web import WebBot, Browser\n",
    "from botcity.web.browsers.chrome import default_options\n",
    "from webdriver_manager.chrome import ChromeDriverManager\n",
    "import os\n",
    "\n",
    "# Instancia o bot\n",
    "webBot = WebBot()\n",
    "\n",
    "# Define o navegador como Chrome\n",
    "webBot.browser = Browser.CHROME\n",
    "\n",
    "# Define o caminho do ChromeDriver (atualizado automaticamente)\n",
    "webBot.driver_path = ChromeDriverManager().install()\n",
    "\n",
    "# Configura as opções do Chrome\n",
    "def_options = default_options()\n",
    "\n",
    "# Usa um diretório temporário para dados do usuário\n",
    "temp_user_data_dir = os.path.join(os.getcwd(), 'temp_chrome_data')\n",
    "os.makedirs(temp_user_data_dir, exist_ok=True)\n",
    "def_options.add_argument(f'--user-data-dir={temp_user_data_dir}')\n",
    "\n",
    "# Adiciona opções para evitar erros\n",
    "def_options.add_argument('--no-sandbox')\n",
    "def_options.add_argument('--disable-dev-shm-usage')\n",
    "\n",
    "# Comente o perfil específico por enquanto\n",
    "# def_options.add_argument('--profile-directory=Profile 1')\n",
    "\n",
    "# Aplica as opções ao bot\n",
    "webBot.options = def_options\n",
    "\n",
    "# Abre o navegador\n",
    "webBot.browse(\"https://nfe.portoalegre.rs.gov.br\")\n",
    "\n",
    "# Fecha o navegador\n",
    "# webBot.stop_browser()"
   ]
  }
 ],
 "metadata": {
  "kernelspec": {
   "display_name": ".venv",
   "language": "python",
   "name": "python3"
  },
  "language_info": {
   "codemirror_mode": {
    "name": "ipython",
    "version": 3
   },
   "file_extension": ".py",
   "mimetype": "text/x-python",
   "name": "python",
   "nbconvert_exporter": "python",
   "pygments_lexer": "ipython3",
   "version": "3.12.8"
  }
 },
 "nbformat": 4,
 "nbformat_minor": 2
}

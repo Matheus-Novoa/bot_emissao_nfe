{
 "cells": [
  {
   "cell_type": "code",
   "execution_count": 16,
   "metadata": {},
   "outputs": [],
   "source": [
    "import os\n",
    "from bot_lib import Bot\n",
    "from config import credentials\n",
    "from botcity.web import By\n",
    "from selenium.webdriver.support.ui import WebDriverWait\n",
    "from selenium.webdriver.support import expected_conditions as EC\n",
    "from selenium.webdriver.common.by import By as sBy"
   ]
  },
  {
   "cell_type": "code",
   "execution_count": null,
   "metadata": {},
   "outputs": [],
   "source": [
    "bot = Bot()\n",
    "bot.bot_setup(r\"C:\\Users\\novoa\\OneDrive\\Área de Trabalho\\notas_MB\\NOTA_FISCAL_ZS_MAPLE_BEAR\\FEVEREIRO2025\", os.getenv('PROFILE_PATH'))\n",
    "try:\n",
    "    bot.entrar(credentials['Zona Sul'])\n",
    "except:\n",
    "    bot.sair()\n",
    "    bot.entrar(credentials['Zona Sul'])\n",
    "    \n",
    "bot.definir_data('28022025')"
   ]
  },
  {
   "cell_type": "code",
   "execution_count": null,
   "metadata": {},
   "outputs": [
    {
     "name": "stdout",
     "output_type": "stream",
     "text": [
      "return False\n"
     ]
    }
   ],
   "source": [
    "wait = WebDriverWait(bot.webBot.driver, 15)\n",
    "campo_cpf = wait.until(EC.element_to_be_clickable((sBy.XPATH, '//*[@id=\"form:numDocumento\"]')))\n",
    "campo_cpf.click()\n",
    "campo_cpf.send_keys('011.089.000-03')\n",
    "# botao_lupa\n",
    "bot.webBot.find_element('//*[@id=\"form:btAutoCompleteTomador\"]', By.XPATH).click()\n",
    "\n",
    "cliente_nao_cadastrado_msg = bot.webBot.find_element('//div[@id=\"mensagem\"]//h1/span', by=By.XPATH).text\n",
    "bot._wait\n",
    "if cliente_nao_cadastrado_msg == 'Mensagens de Alerta !':\n",
    "    print('return False')\n",
    "    \n",
    "    botao_limpar_digitacao = wait.until(\n",
    "                    EC.element_to_be_clickable((sBy.XPATH, '//*[@id=\"form\"]/input[@alt=\"Limpar Digitacao\"]'))\n",
    "                    )\n",
    "    botao_limpar_digitacao.click()"
   ]
  }
 ],
 "metadata": {
  "kernelspec": {
   "display_name": "3.12.3",
   "language": "python",
   "name": "python3"
  },
  "language_info": {
   "codemirror_mode": {
    "name": "ipython",
    "version": 3
   },
   "file_extension": ".py",
   "mimetype": "text/x-python",
   "name": "python",
   "nbconvert_exporter": "python",
   "pygments_lexer": "ipython3",
   "version": "3.12.3"
  }
 },
 "nbformat": 4,
 "nbformat_minor": 2
}

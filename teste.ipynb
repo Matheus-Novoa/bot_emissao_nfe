{
 "cells": [
  {
   "cell_type": "code",
   "execution_count": null,
   "metadata": {},
   "outputs": [],
   "source": [
    "from botcity.web import Browser, By, WebBot\n",
    "from webdriver_manager.chrome import ChromeDriverManager\n",
    "from botcity.web.browsers.chrome import default_options\n",
    "from selenium.webdriver.chrome.options import Options as ChromeOptions\n",
    "import os"
   ]
  },
  {
   "cell_type": "code",
   "execution_count": 5,
   "metadata": {},
   "outputs": [],
   "source": [
    "webBot = WebBot()\n",
    "webBot.headless = False\n",
    "webBot.browser = Browser.CHROME\n",
    "webBot.driver_path = ChromeDriverManager().install()\n",
    "\n",
    "# profile_path = \"C:/Users/novoa/AppData/Local/Google/Chrome/User Data\"\n",
    "def_options = default_options()\n",
    "temp_user_data_dir = os.path.join(os.getcwd(), 'temp_chrome_data')\n",
    "os.makedirs(temp_user_data_dir, exist_ok=True)\n",
    "def_options.add_argument(f'--user-data-dir={temp_user_data_dir}')\n",
    "# def_options.binary_location = r\"C:\\Users\\novoa\\OneDrive\\Área de Trabalho\\chrome-win64\\chrome.exe\"\n",
    "def_options.add_argument(\"no-sandbox\")\n",
    "def_options.add_argument('--disable-dev-shm-usage')\n",
    "# def_options.add_argument('--profile-directory=Profile 1')\n",
    "webBot.options = def_options\n",
    "\n",
    "webBot.browse(\"https://nfe.portoalegre.rs.gov.br\")"
   ]
  },
  {
   "cell_type": "code",
   "execution_count": 5,
   "metadata": {},
   "outputs": [
    {
     "name": "stdout",
     "output_type": "stream",
     "text": [
      "ChromeDriver instalado em: C:\\Users\\novoa\\.wdm\\drivers\\chromedriver\\win64\\136.0.7103.92\\chromedriver-win32/chromedriver.exe\n"
     ]
    }
   ],
   "source": [
    "from webdriver_manager.chrome import ChromeDriverManager\n",
    "from selenium import webdriver\n",
    "\n",
    "# Instala a versão mais recente do ChromeDriver compatível\n",
    "driver_path = ChromeDriverManager().install()\n",
    "print(f\"ChromeDriver instalado em: {driver_path}\")"
   ]
  },
  {
   "cell_type": "code",
   "execution_count": 5,
   "metadata": {},
   "outputs": [],
   "source": [
    "from botcity.web import WebBot, Browser, By\n",
    "from botcity.web.browsers.chrome import default_options\n",
    "from webdriver_manager.chrome import ChromeDriverManager\n",
    "import os\n",
    "\n",
    "# Instancia o bot\n",
    "webBot = WebBot()\n",
    "\n",
    "# Define o navegador como Chrome\n",
    "webBot.browser = Browser.CHROME\n",
    "\n",
    "# Define o caminho do ChromeDriver (atualizado automaticamente)\n",
    "webBot.driver_path = ChromeDriverManager().install()\n",
    "\n",
    "# Configura as opções do Chrome\n",
    "def_options = default_options()\n",
    "\n",
    "# Usa um diretório temporário para dados do usuário\n",
    "temp_user_data_dir = os.path.join(os.getcwd(), 'temp_chrome_data')\n",
    "os.makedirs(temp_user_data_dir, exist_ok=True)\n",
    "def_options.add_argument(f'--user-data-dir={temp_user_data_dir}')\n",
    "\n",
    "# Adiciona opções para evitar erros\n",
    "def_options.add_argument('--no-sandbox')\n",
    "def_options.add_argument('--disable-dev-shm-usage')\n",
    "\n",
    "# Comente o perfil específico por enquanto\n",
    "# def_options.add_argument('--profile-directory=Profile 1')\n",
    "\n",
    "# Aplica as opções ao bot\n",
    "webBot.options = def_options\n",
    "\n",
    "# Abre o navegador\n",
    "webBot.browse(\"https://nfe.portoalegre.rs.gov.br\")\n",
    "\n",
    "# Fecha o navegador\n",
    "# webBot.stop_browser()"
   ]
  },
  {
   "cell_type": "code",
   "execution_count": 6,
   "metadata": {},
   "outputs": [],
   "source": [
    "# Campo usuário\n",
    "webBot.find_element('//*[@id=\"username\"]', By.XPATH).send_keys('15458345000160')\n",
    "# Campo senha\n",
    "webBot.find_element('//*[@id=\"password\"]', By.XPATH).send_keys('290795cana')\n",
    "# Botão entrar\n",
    "webBot.find_element('//*[@id=\"mainContent\"]/div/form/input[5]', By.XPATH).click()"
   ]
  },
  {
   "cell_type": "code",
   "execution_count": 7,
   "metadata": {},
   "outputs": [],
   "source": [
    "webBot.find_element('//*[@id=\"menu:j_id8\"]/div[@class=\"itemMenu\"]', By.XPATH).click()"
   ]
  },
  {
   "cell_type": "code",
   "execution_count": 8,
   "metadata": {},
   "outputs": [],
   "source": [
    "webBot.find_element('//*[@id=\"MesReferenciaModalPanelSubview:formMesReferencia:dtCompetencia\"]',\n",
    "                                        By.XPATH).send_keys('31082025')"
   ]
  },
  {
   "cell_type": "code",
   "execution_count": 9,
   "metadata": {},
   "outputs": [],
   "source": [
    "campo_cpf = webBot.find_element('//*[@id=\"form:numDocumento\"]', By.XPATH)\n",
    "campo_cpf.click()\n",
    "campo_cpf.send_keys('99009331091')\n",
    "# botao_lupa\n",
    "webBot.find_element('//*[@id=\"form:btAutoCompleteTomador\"]', By.XPATH).click()"
   ]
  },
  {
   "cell_type": "code",
   "execution_count": 10,
   "metadata": {},
   "outputs": [],
   "source": [
    "texto_descricao = f'PRESTAÇÃO DE SERVIÇO EDUCAÇÃO INFANTIL/FUNDAMENTAL MÊS AGOSTO/2025 - ALUNO Davi'\n",
    "# campo_descricao\n",
    "webBot.find_element('//*[@id=\"form:descriminacaoServico\"]', By.XPATH).send_keys(texto_descricao)"
   ]
  },
  {
   "cell_type": "code",
   "execution_count": null,
   "metadata": {},
   "outputs": [],
   "source": []
  }
 ],
 "metadata": {
  "kernelspec": {
   "display_name": "bot_emissao_nfe",
   "language": "python",
   "name": "python3"
  },
  "language_info": {
   "codemirror_mode": {
    "name": "ipython",
    "version": 3
   },
   "file_extension": ".py",
   "mimetype": "text/x-python",
   "name": "python",
   "nbconvert_exporter": "python",
   "pygments_lexer": "ipython3",
   "version": "3.12.8"
  }
 },
 "nbformat": 4,
 "nbformat_minor": 2
}
